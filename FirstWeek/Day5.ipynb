{
 "cells": [
  {
   "cell_type": "markdown",
   "id": "6672d502",
   "metadata": {},
   "source": [
    "# 最长回文子串\n",
    "## 题目\n",
    "\n",
    "> 返回回文子串中最长的子串\n",
    "\n",
    "* "
   ]
  },
  {
   "cell_type": "code",
   "execution_count": 11,
   "id": "6783bf06",
   "metadata": {},
   "outputs": [
    {
     "name": "stdout",
     "output_type": "stream",
     "text": [
      "bcaddacb\n"
     ]
    }
   ],
   "source": [
    "def get_max_lenth(words):\n",
    "    if len(words) < 2:\n",
    "        return words\n",
    "    \n",
    "    start, max_lenth = 0, 1\n",
    "\n",
    "    def expand_around_center(left, right):\n",
    "        nonlocal start, max_lenth\n",
    "        while left >= 0 and right < len(words) and words[left] == words[right]:\n",
    "            left -= 1\n",
    "            right += 1\n",
    "        if max_lenth < right - left - 1:\n",
    "            start = left + 1\n",
    "            max_lenth = right - left - 1\n",
    "\n",
    "    for i in range(len(words)):\n",
    "        if expand_around_center(i, i) or expand_around_center(i, i + 1):\n",
    "            continue\n",
    "\n",
    "    return words[start:start + max_lenth]\n",
    "\n",
    "string = \"#abcaddacb@a\"\n",
    "print(get_max_lenth(string))"
   ]
  }
 ],
 "metadata": {
  "kernelspec": {
   "display_name": "Python 3",
   "language": "python",
   "name": "python3"
  },
  "language_info": {
   "codemirror_mode": {
    "name": "ipython",
    "version": 3
   },
   "file_extension": ".py",
   "mimetype": "text/x-python",
   "name": "python",
   "nbconvert_exporter": "python",
   "pygments_lexer": "ipython3",
   "version": "3.11.3"
  }
 },
 "nbformat": 4,
 "nbformat_minor": 5
}
