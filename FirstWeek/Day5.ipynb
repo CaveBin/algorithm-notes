{
 "cells": [
  {
   "cell_type": "markdown",
   "id": "6672d502",
   "metadata": {},
   "source": [
    "# 最长回文子串\n",
    "## 题目\n",
    "\n",
    "> 返回回文子串中最长的子串\n",
    "\n",
    "* "
   ]
  },
  {
   "cell_type": "code",
   "execution_count": 9,
   "id": "6783bf06",
   "metadata": {},
   "outputs": [
    {
     "name": "stdout",
     "output_type": "stream",
     "text": [
      "bcaddacb\n"
     ]
    }
   ],
   "source": [
    "def get_max_lenth(words):\n",
    "    if len(words) < 2:\n",
    "        return words\n",
    "    \n",
    "    start, max_lenth = 0, 1\n",
    "\n",
    "    def expand_around_center(left, right):\n",
    "        nonlocal start, max_lenth\n",
    "        while left >= 0 and right < len(words) and words[left] == words[right]:\n",
    "            left -= 1\n",
    "            right += 1\n",
    "        if max_lenth < right - left - 1:\n",
    "            start = left + 1\n",
    "            max_lenth = right - left - 1\n",
    "\n",
    "    for i in range(len(words)):\n",
    "        if expand_around_center(i, i) or expand_around_center(i, i + 1):\n",
    "            continue\n",
    "\n",
    "    return words[start:start + max_lenth]\n",
    "\n",
    "string = \"#abcaddacb@a\"\n",
    "print(get_max_lenth(string))"
   ]
  },
  {
   "cell_type": "code",
   "execution_count": null,
   "id": "ac8e8a10",
   "metadata": {},
   "outputs": [
    {
     "ename": "NameError",
     "evalue": "name 'get_max_length' is not defined",
     "output_type": "error",
     "traceback": [
      "\u001b[1;31m---------------------------------------------------------------------------\u001b[0m",
      "\u001b[1;31mNameError\u001b[0m                                 Traceback (most recent call last)",
      "Cell \u001b[1;32mIn[8], line 15\u001b[0m\n\u001b[0;32m      8\u001b[0m importlib\u001b[38;5;241m.\u001b[39mreload(complexity_analyzer)\n\u001b[0;32m      9\u001b[0m \u001b[38;5;28;01mfrom\u001b[39;00m\u001b[38;5;250m \u001b[39m\u001b[38;5;21;01mcomplexity_analyzer\u001b[39;00m\u001b[38;5;250m \u001b[39m\u001b[38;5;28;01mimport\u001b[39;00m (\n\u001b[0;32m     10\u001b[0m     static_estimate, measure_time, measure_space,\n\u001b[0;32m     11\u001b[0m     build_input_sliding_window, wrap_tuple, suppress_output\n\u001b[0;32m     12\u001b[0m )\n\u001b[0;32m     14\u001b[0m analysis_targets \u001b[38;5;241m=\u001b[39m [\n\u001b[1;32m---> 15\u001b[0m     (\u001b[38;5;124m\"\u001b[39m\u001b[38;5;124mget_max_length\u001b[39m\u001b[38;5;124m\"\u001b[39m, \u001b[43mget_max_length\u001b[49m(string))\n\u001b[0;32m     16\u001b[0m ]\n\u001b[0;32m     18\u001b[0m ns \u001b[38;5;241m=\u001b[39m [\u001b[38;5;241m200\u001b[39m, \u001b[38;5;241m400\u001b[39m, \u001b[38;5;241m600\u001b[39m, \u001b[38;5;241m800\u001b[39m, \u001b[38;5;241m1000\u001b[39m]\n\u001b[0;32m     19\u001b[0m reports \u001b[38;5;241m=\u001b[39m []\n",
      "\u001b[1;31mNameError\u001b[0m: name 'get_max_length' is not defined"
     ]
    }
   ],
   "source": [
    "import os, sys, importlib\n",
    "CURR = os.getcwd()\n",
    "PARENT = os.path.abspath(os.path.join(CURR, '..'))\n",
    "if PARENT not in sys.path:\n",
    "    sys.path.insert(0, PARENT)\n",
    "\n",
    "import complexity_analyzer\n",
    "importlib.reload(complexity_analyzer)\n",
    "from complexity_analyzer import (\n",
    "    static_estimate, measure_time, measure_space,\n",
    "    build_input_sliding_window, wrap_tuple, suppress_output\n",
    ")\n",
    "\n",
    "analysis_targets = [\n",
    "    (\"get_max_lenth\", get_max_lenth(string))\n",
    "]\n",
    "\n",
    "ns = [200, 400, 600, 800, 1000]\n",
    "reports = []\n",
    "for name, fn in analysis_targets:\n",
    "    stat = static_estimate(fn)\n",
    "    wrapped = wrap_tuple(fn)\n",
    "    t_report = measure_time(wrapped, build_input_sliding_window, ns, repeats=5)\n",
    "    s_report = measure_space(wrapped, build_input_sliding_window, ns)\n",
    "    reports.append({\"function\": name, \"static\": stat, \"time\": t_report, \"space\": s_report})\n",
    "\n",
    "for r in reports:\n",
    "    print(f\"\\nFunction: {r['function']}\")\n",
    "    print(f\" Static upper bound: {r['static'].get('upper_bound_guess')}\")\n",
    "    print(f\" Time best fit: {r['time']['best_model']} -> {r['time']['samples']}\")\n",
    "    print(f\" Space best fit: {r['space']['best_model']} -> {r['space']['samples']}\")\n"
   ]
  }
 ],
 "metadata": {
  "kernelspec": {
   "display_name": "Python 3",
   "language": "python",
   "name": "python3"
  },
  "language_info": {
   "codemirror_mode": {
    "name": "ipython",
    "version": 3
   },
   "file_extension": ".py",
   "mimetype": "text/x-python",
   "name": "python",
   "nbconvert_exporter": "python",
   "pygments_lexer": "ipython3",
   "version": "3.11.3"
  }
 },
 "nbformat": 4,
 "nbformat_minor": 5
}
