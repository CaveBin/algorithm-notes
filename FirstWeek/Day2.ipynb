{
 "cells": [
  {
   "cell_type": "markdown",
   "id": "8473356e",
   "metadata": {},
   "source": [
    "# 三数之和\n",
    "## 题目描述：\n",
    "> 给定一个包含 n 个整数的数组 nums，判断数组中是否存在三个元素 a, b, c，使得 a + b + c = 0，并找出所有满足条件且不重复的三元组。\n",
    "* 示例：\n",
    "* 输入: nums = [-1, 0, 1, 2, -1, -4]\n",
    "* 输出: [[-1, -1, 2], [-1, 0, 1]]\n"
   ]
  },
  {
   "cell_type": "code",
   "execution_count": 6,
   "id": "f23eea16",
   "metadata": {},
   "outputs": [
    {
     "name": "stdout",
     "output_type": "stream",
     "text": [
      "[(-1, -1, 2), (-1, 0, 1)]\n"
     ]
    }
   ],
   "source": [
    "def sum_three_numbers(nums):\n",
    "    # sort the numbers\n",
    "    nums.sort()\n",
    "\n",
    "    result = []\n",
    "    \n",
    "    for i in range(len(nums) - 2):\n",
    "        # Skip duplicates at first position\n",
    "        if i > 0 and nums[i] == nums[i - 1]:\n",
    "            continue\n",
    "\n",
    "        # Find pairs that sum to -nums[i]\n",
    "        for j in range(i + 1, len(nums) - 1):\n",
    "            if j > i + 1 and nums[j] == nums[j - 1]:\n",
    "                continue\n",
    "\n",
    "            for k in range(j + 1, len(nums)):\n",
    "                if k > j + 1 and nums[k] == nums[k - 1]:\n",
    "                    continue\n",
    "\n",
    "                if nums[i] + nums[j] + nums[k] == 0:\n",
    "                    result.append((nums[i], nums[j], nums[k]))\n",
    "\n",
    "    return result\n",
    "\n",
    "nums = [-1, 0, 1, 2, -1, -4, -1, 0, 1]\n",
    "print(sum_three_numbers(nums))"
   ]
  },
  {
   "cell_type": "code",
   "execution_count": 5,
   "id": "7b9c23fc",
   "metadata": {},
   "outputs": [
    {
     "name": "stdout",
     "output_type": "stream",
     "text": [
      "[(-1, -1, 2), (-1, 0, 1)]\n"
     ]
    }
   ],
   "source": [
    "def sum_three_numbers_double_iter(nums):\n",
    "    # sort the numbers\n",
    "    nums.sort()\n",
    "\n",
    "    result = []\n",
    "\n",
    "    # Get the length of the input list\n",
    "    n = len(nums)\n",
    "\n",
    "    for i in range(n - 2):\n",
    "        # Skip duplicates at first position\n",
    "        if i > 0 and nums[i] == nums[i - 1]:\n",
    "            continue\n",
    "\n",
    "        # set pointers\n",
    "        left, right = i + 1, n - 1\n",
    "\n",
    "        while left < right:\n",
    "            s = nums[i] + nums[left] + nums[right]\n",
    "\n",
    "            if s == 0:\n",
    "                result.append((nums[i], nums[left], nums[right]))\n",
    "                # Skip duplicates\n",
    "                while left < right and nums[left] == nums[left + 1]:\n",
    "                    left += 1\n",
    "                # Skip duplicates\n",
    "                while left < right and nums[right] == nums[right - 1]:\n",
    "                    right -= 1\n",
    "                left += 1\n",
    "                right -= 1\n",
    "\n",
    "            elif s < 0:\n",
    "                left += 1\n",
    "            else:\n",
    "                right -= 1\n",
    "\n",
    "    return result\n",
    "\n",
    "nums = [-1, 0, 1, 2, -1, -4, -1, 0, 1]\n",
    "print(sum_three_numbers_double_iter(nums))"
   ]
  }
 ],
 "metadata": {
  "kernelspec": {
   "display_name": "Python 3",
   "language": "python",
   "name": "python3"
  },
  "language_info": {
   "codemirror_mode": {
    "name": "ipython",
    "version": 3
   },
   "file_extension": ".py",
   "mimetype": "text/x-python",
   "name": "python",
   "nbconvert_exporter": "python",
   "pygments_lexer": "ipython3",
   "version": "3.11.3"
  }
 },
 "nbformat": 4,
 "nbformat_minor": 5
}
