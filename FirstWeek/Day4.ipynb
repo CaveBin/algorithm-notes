{
 "cells": [
  {
   "cell_type": "markdown",
   "id": "080beec5",
   "metadata": {},
   "source": [
    "# 滑动窗口最大值\n",
    "## 题目:\n",
    "> 输入一个整数数组 nums 和滑动窗口大小 k， 输出每个窗口中的最大值。\n",
    "\n",
    "### 示例：\n",
    "* nums = [1,3,-1,-3,5,3,6,7]\n",
    "* k = 3\n",
    "* 输出: [3,3,5,5,6,7]"
   ]
  },
  {
   "cell_type": "code",
   "execution_count": 1,
   "id": "fdeee091",
   "metadata": {},
   "outputs": [
    {
     "name": "stdout",
     "output_type": "stream",
     "text": [
      "3 3 5 5 6 7 "
     ]
    }
   ],
   "source": [
    "def output_max_k(nums, k):\n",
    "    for i in range(len(nums) - k + 1):\n",
    "        print(max(nums[i:i + k]), end=' ')\n",
    "\n",
    "nums = [1,3,-1,-3,5,3,6,7]\n",
    "k = 3\n",
    "output_max_k(nums, k)"
   ]
  },
  {
   "cell_type": "code",
   "execution_count": 21,
   "id": "84f02ded",
   "metadata": {},
   "outputs": [
    {
     "name": "stdout",
     "output_type": "stream",
     "text": [
      "3 3 5 5 6 7 "
     ]
    }
   ],
   "source": [
    "from collections import deque\n",
    "\n",
    "def output_max_k_opti(nums, k):\n",
    "    dq = deque()\n",
    "    \n",
    "    for i in range(len(nums)):\n",
    "        if dq and dq[0] < i - k + 1:\n",
    "            dq.popleft()\n",
    "            \n",
    "        while dq and nums[dq[-1]] < nums[i]:\n",
    "            dq.pop()\n",
    "        \n",
    "        dq.append(i)\n",
    "        \n",
    "\n",
    "        if i >= k - 1:\n",
    "            print(nums[dq[0]], end=' ')\n",
    "\n",
    "nums = [1,3,-1,-3,5,3,6,7]\n",
    "k = 3\n",
    "output_max_k_opti(nums, k)"
   ]
  },
  {
   "cell_type": "code",
   "execution_count": 27,
   "id": "e1e5d328",
   "metadata": {},
   "outputs": [
    {
     "name": "stdout",
     "output_type": "stream",
     "text": [
      "\n",
      "Function: output_max_k\n",
      " Static upper bound: O(n)\n",
      " Time best fit: O(n^2) -> [(200, 0.00018950000003314926), (400, 0.000551999999970576), (600, 0.0009297000001424749), (800, 0.001532299999780662), (1000, 0.002151900000171736)]\n",
      " Space best fit: O(n log n) -> [(200, 14751), (400, 33523), (600, 53811), (800, 75251), (1000, 96275)]\n",
      "\n",
      "Function: output_max_k_opti\n",
      " Static upper bound: O(n^2)\n",
      " Time best fit: O(n) -> [(200, 0.00012199999991935329), (400, 0.00024819999998726416), (600, 0.0003849999998237763), (800, 0.0005020000003241876), (1000, 0.0005928999999014195)]\n",
      " Space best fit: O(n log n) -> [(200, 15851), (400, 34463), (600, 54591), (800, 75871), (1000, 96735)]\n"
     ]
    }
   ],
   "source": [
    "import os, sys, importlib\n",
    "CURR = os.getcwd()\n",
    "PARENT = os.path.abspath(os.path.join(CURR, '..'))\n",
    "if PARENT not in sys.path:\n",
    "    sys.path.insert(0, PARENT)\n",
    "\n",
    "import complexity_analyzer\n",
    "importlib.reload(complexity_analyzer)\n",
    "from complexity_analyzer import (\n",
    "    static_estimate, measure_time, measure_space,\n",
    "    build_input_sliding_window, wrap_tuple, suppress_output\n",
    ")\n",
    "\n",
    "analysis_targets = [\n",
    "    (\"output_max_k\", suppress_output(output_max_k)),\n",
    "    (\"output_max_k_opti\", suppress_output(output_max_k_opti)),\n",
    "]\n",
    "\n",
    "ns = [200, 400, 600, 800, 1000]\n",
    "reports = []\n",
    "for name, fn in analysis_targets:\n",
    "    stat = static_estimate(fn)\n",
    "    wrapped = wrap_tuple(fn)\n",
    "    t_report = measure_time(wrapped, build_input_sliding_window, ns, repeats=5)\n",
    "    s_report = measure_space(wrapped, build_input_sliding_window, ns)\n",
    "    reports.append({\"function\": name, \"static\": stat, \"time\": t_report, \"space\": s_report})\n",
    "\n",
    "for r in reports:\n",
    "    print(f\"\\nFunction: {r['function']}\")\n",
    "    print(f\" Static upper bound: {r['static'].get('upper_bound_guess')}\")\n",
    "    print(f\" Time best fit: {r['time']['best_model']} -> {r['time']['samples']}\")\n",
    "    print(f\" Space best fit: {r['space']['best_model']} -> {r['space']['samples']}\")\n"
   ]
  }
 ],
 "metadata": {
  "kernelspec": {
   "display_name": "Python 3",
   "language": "python",
   "name": "python3"
  },
  "language_info": {
   "codemirror_mode": {
    "name": "ipython",
    "version": 3
   },
   "file_extension": ".py",
   "mimetype": "text/x-python",
   "name": "python",
   "nbconvert_exporter": "python",
   "pygments_lexer": "ipython3",
   "version": "3.11.3"
  }
 },
 "nbformat": 4,
 "nbformat_minor": 5
}
