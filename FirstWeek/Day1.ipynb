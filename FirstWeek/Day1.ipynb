{
 
   "source": [
    "def sum_two_nums(nums, target):\n",
    "    # Create a hash table to store the indices of the numbers\n",
    "    result = {}\n",
    "    \n",
    "    # Iterate through the list of numbers\n",
    "    for i, num in enumerate(nums):\n",
    "        complement = target - num\n",
    "\n",
    "        # If the target complement exists in the hash table\n",
    "        if complement in result:\n",
    "            # If found, return the indices of the two numbers\n",
    "            return [result[complement], i]\n",
    "\n",
    "        # If not found, store the index of the current number\n",
    "        result[num] = i\n",
    "    \n",
    "    return None\n",
    "\n",
    "\n",
    "nums = [2, 7, 11, 15]\n",
    "target = 26\n",
    "print(sum_two_nums(nums, target))"
   ]
  }
 ],
 "metadata": {
  "kernelspec": {
   "display_name": "Python 3",
   "language": "python",
   "name": "python3"
  },
  "language_info": {
   "codemirror_mode": {
    "name": "ipython",
    "version": 3
   },
   "file_extension": ".py",
   "mimetype": "text/x-python",
   "name": "python",
   "nbconvert_exporter": "python",
   "pygments_lexer": "ipython3",
   "version": "3.11.3"
  }
 },
 "nbformat": 4,
 "nbformat_minor": 5
}
