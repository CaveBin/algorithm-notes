{
 "cells": [
  {
   "cell_type": "markdown",
   "id": "1354e627",
   "metadata": {},
   "source": [
    "# 两数之和\n",
    "## 题目描述：\n",
    "> 给定一个整数数组 nums 和一个整数目标值 target，请在该数组中找出和为 target 的那 两个数，并返回它们的数组下标。\n",
    "* 每种输入只会对应一个答案。\n",
    "* 不能重复使用同一个元素。\n",
    "* 可以按任意顺序返回答案。"
   ]
  },
  {
   "cell_type": "markdown",
   "id": "716609ca",
   "metadata": {},
   "source": [
    "> 示例 1：\n",
    "* 输入: nums = [2, 7, 11, 15], target = 9\n",
    "* 输出: [0, 1]\n",
    "* 解释: nums[0] + nums[1] = 2 + 7 = 9\n",
    "\n",
    "> 示例 2：\n",
    "* 输入: nums = [3, 2, 4], target = 6\n",
    "* 输出: [1, 2]\n",
    "\n",
    "> 示例 3：输入: nums = [3, 3], target = 6\n",
    "* 输出: [0, 1]\n"
   ]
  },
  {
   "cell_type": "code",
   "execution_count": 8,
   "id": "83c02ac5",
   "metadata": {},
   "outputs": [
    {
     "name": "stdout",
     "output_type": "stream",
     "text": [
      "[2, 3]\n"
     ]
    }
   ],
   "source": [
    "def sum_two_nums(nums, target):\n",
    "    # Create a hash table to store the indices of the numbers\n",
    "    result = {}\n",
    "    \n",
    "    # Iterate through the list of numbers\n",
    "    for i, num in enumerate(nums):\n",
    "        complement = target - num\n",
    "\n",
    "        # If the target complement exists in the hash table\n",
    "        if complement in result:\n",
    "            # If found, return the indices of the two numbers\n",
    "            return [result[complement], i]\n",
    "\n",
    "        # If not found, store the index of the current number\n",
    "        result[num] = i\n",
    "    \n",
    "    return None\n",
    "\n",
    "\n",
    "nums = [2, 7, 11, 15]\n",
    "target = 26\n",
    "print(sum_two_nums(nums, target))"
   ]
  }
 ],
 "metadata": {
  "kernelspec": {
   "display_name": "Python 3",
   "language": "python",
   "name": "python3"
  },
  "language_info": {
   "codemirror_mode": {
    "name": "ipython",
    "version": 3
   },
   "file_extension": ".py",
   "mimetype": "text/x-python",
   "name": "python",
   "nbconvert_exporter": "python",
   "pygments_lexer": "ipython3",
   "version": "3.11.3"
  }
 },
 "nbformat": 4,
 "nbformat_minor": 5
}
