{
 "cells": [
  {
   "cell_type": "markdown",
   "id": "6eed042b",
   "metadata": {},
   "source": [
    "# 双指针原地修改\n"
   ]
  },
  {
   "cell_type": "markdown",
   "id": "f0814c0e",
   "metadata": {},
   "source": [
    "## 题目1：移动零（Move Zeroes）\n",
    "> 描述\n",
    "\n",
    "> 给定数组 nums，将数组中的所有 0 移动到数组末尾，同时保持非零元素的相对顺序。必须在原地完成（O(1) 额外空间）。\n",
    "\n",
    "* 示例\n",
    "* 输入：[0,1,0,3,12] → 输出（原地修改后）：[1,3,12,0,0]\n",
    "* 输入：[0,0,1] → [1,0,0]"
   ]
  },
  {
   "cell_type": "code",
   "execution_count": 13,
   "id": "ce1b70bc",
   "metadata": {},
   "outputs": [
    {
     "name": "stdout",
     "output_type": "stream",
     "text": [
      "[1, 3, 12, 0, 0]\n",
      "[1, 12, 0, 0, 0]\n"
     ]
    }
   ],
   "source": [
    "def move_zeros(nums, target=0):\n",
    "    # sort of the nums\n",
    "    # nums.sort()\n",
    "\n",
    "    for i in range(len(nums)):\n",
    "        if nums[i] == target:\n",
    "            nums.remove(target)\n",
    "            nums.append(target)\n",
    "            i += 1\n",
    "    \n",
    "    return nums\n",
    "\n",
    "a = [0,1,0,3,12]\n",
    "move_zeros(a, target=0)\n",
    "print(a) \n",
    "\n",
    "B = [0,1,0,0,12]\n",
    "move_zeros(B, target=0)\n",
    "print(B) "
   ]
  },
  {
   "cell_type": "code",
   "execution_count": 14,
   "id": "1c419b25",
   "metadata": {},
   "outputs": [
    {
     "name": "stdout",
     "output_type": "stream",
     "text": [
      "[1, 3, 12, 0, 0]\n",
      "[1, 12, 0, 0, 0]\n"
     ]
    }
   ],
   "source": [
    "def move_zeros_opti(nums, target=0):\n",
    "    \"\"\"\n",
    "    Optimized version of move_zeros function.\n",
    "    This function moves all occurrences of the target value to the end of the list \n",
    "    while maintaining the relative order of non-target elements.\n",
    "    \"\"\"\n",
    "    insert_pos = 0\n",
    "\n",
    "    for num in nums:\n",
    "        if num != target:\n",
    "            nums[insert_pos] = num\n",
    "            insert_pos += 1\n",
    "    \n",
    "    for i in range(insert_pos, len(nums)):\n",
    "        nums[i] = target\n",
    "\n",
    "    return nums\n",
    "\n",
    "a = [0,1,0,3,12]\n",
    "move_zeros_opti(a, target=0)\n",
    "print(a) \n",
    "\n",
    "B = [0,1,0,0,12]\n",
    "move_zeros_opti(B, target=0)\n",
    "print(B) "
   ]
  },
  {
   "cell_type": "code",
   "execution_count": 22,
   "id": "0112b44b",
   "metadata": {},
   "outputs": [
    {
     "name": "stdout",
     "output_type": "stream",
     "text": [
      "\n",
      "Function: move_zeros\n",
      " Static upper bound: O(n)\n",
      " Time best fit: O(n) -> [(30, 1.2499978765845299e-05), (60, 1.2899981811642647e-05), (90, 1.789990346878767e-05), (120, 2.329994458705187e-05), (150, 2.9100105166435242e-05)]\n",
      " Space best fit: O(n) -> [(30, 424), (60, 808), (90, 1132), (120, 1456), (150, 1780)]\n",
      "\n",
      "Function: move_zeros_opti\n",
      " Static upper bound: O(n)\n",
      " Time best fit: O(n) -> [(30, 5.500041879713535e-06), (60, 9.599956683814526e-06), (90, 1.3699987903237343e-05), (120, 1.7700018361210823e-05), (150, 2.1999934688210487e-05)]\n",
      " Space best fit: O(n) -> [(30, 424), (60, 808), (90, 1076), (120, 1344), (150, 1612)]\n"
     ]
    }
   ],
   "source": [
    "# Use external complexity analyzer module\n",
    "import os, sys, importlib\n",
    "CURR = os.getcwd()\n",
    "PARENT = os.path.abspath(os.path.join(CURR, '..'))\n",
    "if PARENT not in sys.path:\n",
    "    sys.path.insert(0, PARENT)\n",
    "\n",
    "import complexity_analyzer\n",
    "importlib.reload(complexity_analyzer)\n",
    "from complexity_analyzer import (\n",
    "    static_estimate, measure_time, measure_space,\n",
    "    build_input_list\n",
    ")\n",
    "\n",
    "analysis_targets = [\n",
    "    (\"move_zeros\", move_zeros),\n",
    "    (\"move_zeros_opti\", move_zeros_opti)\n",
    "]\n",
    "\n",
    "ns = [30, 60, 90, 120, 150]\n",
    "reports = []\n",
    "for name, fn in analysis_targets:\n",
    "    stat = static_estimate(fn)\n",
    "    t_report = measure_time(fn, build_input_list, ns, repeats=5)\n",
    "    s_report = measure_space(fn, build_input_list, ns)\n",
    "    reports.append({\"function\": name, \"static\": stat, \"time\": t_report, \"space\": s_report})\n",
    "\n",
    "for r in reports:\n",
    "    print(f\"\\nFunction: {r['function']}\")\n",
    "    print(f\" Static upper bound: {r['static'].get('upper_bound_guess')}\")\n",
    "    print(f\" Time best fit: {r['time']['best_model']} -> {r['time']['samples']}\")\n",
    "    print(f\" Space best fit: {r['space']['best_model']} -> {r['space']['samples']}\")"
   ]
  },
  {
   "cell_type": "markdown",
   "id": "7e083801",
   "metadata": {},
   "source": [
    "## 题目2：删除排序数组中的重复项（Remove Duplicates from Sorted Array）\n",
    "> 描述\n",
    "\n",
    "> 给定有序数组 nums，原地删除重复元素，使每个元素只出现一次，并返回移除后数组的新长度 k。在返回 k 之后，nums 的前 k 个元素应当是去重后的结果（顺序保持）。其余内容不作要求。\n",
    "\n",
    "* 示例\n",
    "* 输入：nums = [1,1,2] → 返回：k = 2，nums 前两位变为 [1,2, ...]\n",
    "* 输入：nums = [0,0,1,1,1,2,2,3,3,4] → 返回 k = 5，前五位为 [0,1,2,3,4]"
   ]
  },
  {
   "cell_type": "code",
   "execution_count": 1,
   "id": "366afcdb",
   "metadata": {},
   "outputs": [
    {
     "name": "stdout",
     "output_type": "stream",
     "text": [
      "(5, [0, 1, 2, 3, 4])\n"
     ]
    }
   ],
   "source": [
    "def del_dup_nums(nums):\n",
    "    insert_pos = 0\n",
    "\n",
    "    for i in range(1, len(nums)):\n",
    "        if nums[i] != nums[insert_pos]:\n",
    "            insert_pos += 1\n",
    "            nums[insert_pos] = nums[i]\n",
    "            \n",
    "\n",
    "    return insert_pos + 1, nums[:insert_pos + 1]\n",
    "\n",
    "nums = [0,0,0,1,1,1,2,2,3,3,4]\n",
    "print(del_dup_nums(nums))\n"
   ]
  },
  {
   "cell_type": "code",
   "execution_count": 10,
   "id": "1cbc9026",
   "metadata": {},
   "outputs": [
    {
     "name": "stdout",
     "output_type": "stream",
     "text": [
      "\n",
      "Function: del_dup_nums\n",
      " Static upper bound: O(n)\n",
      " Time best fit: O(n) -> [(30, 1.1899974197149277e-05), (60, 2.0900042727589607e-05), (90, 2.989999484270811e-05), (120, 3.909994848072529e-05), (150, 4.849990364164114e-05)]\n",
      " Space best fit: O(n) -> [(30, 584), (60, 1208), (90, 1772), (120, 2336), (150, 2900)]\n"
     ]
    }
   ],
   "source": [
    "# Use external complexity analyzer module\n",
    "import os, sys, importlib\n",
    "CURR = os.getcwd()\n",
    "PARENT = os.path.abspath(os.path.join(CURR, '..'))\n",
    "if PARENT not in sys.path:\n",
    "    sys.path.insert(0, PARENT)\n",
    "\n",
    "import complexity_analyzer\n",
    "importlib.reload(complexity_analyzer)\n",
    "from complexity_analyzer import (\n",
    "    static_estimate, measure_time, measure_space,\n",
    "    build_input_list\n",
    ")\n",
    "\n",
    "analysis_targets = [\n",
    "    (\"del_dup_nums\", del_dup_nums),\n",
    "]\n",
    "\n",
    "ns = [30, 60, 90, 120, 150]\n",
    "reports = []\n",
    "for name, fn in analysis_targets:\n",
    "    stat = static_estimate(fn)\n",
    "    t_report = measure_time(fn, build_input_list, ns, repeats=5)\n",
    "    s_report = measure_space(fn, build_input_list, ns)\n",
    "    reports.append({\"function\": name, \"static\": stat, \"time\": t_report, \"space\": s_report})\n",
    "\n",
    "for r in reports:\n",
    "    print(f\"\\nFunction: {r['function']}\")\n",
    "    print(f\" Static upper bound: {r['static'].get('upper_bound_guess')}\")\n",
    "    print(f\" Time best fit: {r['time']['best_model']} -> {r['time']['samples']}\")\n",
    "    print(f\" Space best fit: {r['space']['best_model']} -> {r['space']['samples']}\")"
   ]
  }
 ],
 "metadata": {
  "kernelspec": {
   "display_name": "Python 3",
   "language": "python",
   "name": "python3"
  },
  "language_info": {
   "codemirror_mode": {
    "name": "ipython",
    "version": 3
   },
   "file_extension": ".py",
   "mimetype": "text/x-python",
   "name": "python",
   "nbconvert_exporter": "python",
   "pygments_lexer": "ipython3",
   "version": "3.11.3"
  }
 },
 "nbformat": 4,
 "nbformat_minor": 5
}
