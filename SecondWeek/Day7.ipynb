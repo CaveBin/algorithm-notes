{
 "cells": [
  {
   "cell_type": "markdown",
   "id": "f54eb539",
   "metadata": {},
   "source": [
    "# 最小栈\n",
    "\n",
    "## 题目\n",
    "> 设计一个支持 push(x)、pop()、top()、以及能在常数时间内检索到最小元素的栈。\n",
    "* push(x) —— 将元素 x 推入栈中。\n",
    "* pop() —— 删除栈顶的元素。\n",
    "* top() —— 获取栈顶元素。\n",
    "* getMin() —— 检索栈中的最小元素。"
   ]
  },
  {
   "cell_type": "code",
   "execution_count": null,
   "id": "adbd2cb2",
   "metadata": {},
   "outputs": [],
   "source": [
    "def getMinStack():\n",
    "    stack = []\n",
    "    min_stack = []\n",
    "\n",
    "    def push(x):\n",
    "        stack.append(x)\n",
    "        if not min_stack or x <= min_stack[-1]:\n",
    "            min_stack.append(x)\n",
    "\n",
    "    def pop():\n",
    "        if stack:\n",
    "            top = stack.pop()\n",
    "            if top == min_stack[-1]:\n",
    "                min_stack.pop()\n",
    "\n",
    "    def top():\n",
    "        if stack:\n",
    "            return stack[-1]\n",
    "        return None\n",
    "\n",
    "    def getMin():\n",
    "        if min_stack:\n",
    "            return min_stack[-1]\n",
    "        return None\n",
    "\n",
    "    return push, pop, top, getMin"
   ]
  }
 ],
 "metadata": {
  "language_info": {
   "name": "python"
  }
 },
 "nbformat": 4,
 "nbformat_minor": 5
}
