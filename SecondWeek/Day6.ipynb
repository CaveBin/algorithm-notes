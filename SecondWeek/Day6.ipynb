{
 "cells": [
  {
   "cell_type": "markdown",
   "id": "8a8e7bb2",
   "metadata": {},
   "source": [
    "# 第二周第一天\n",
    "# 有效括号（Valied Parentheses）\n",
    "## 描述：\n",
    "\n",
    "> 给定一个只包括 '('，')'，'{'，'}'，'['，']' 的字符串 s ，判断字符串是否有效。\n",
    "\n",
    "> 一个有效字符串需满足：\n",
    "* 1.左括号必须用相同类型的右括号闭合。\n",
    "* 2.左括号必须以正确的顺序闭合。\n",
    "\n",
    "> 示例1\n",
    "* 输入: s = \"()[]{}\"\n",
    "* 输出: true\n",
    "\n",
    "> 示例2\n",
    "* 输入: s = \"(]\"\n",
    "* 输出: false\n",
    "\n",
    "> 示例3\n",
    "* 输入: s = \"([)]\"\n",
    "* 输出: false\n",
    "\n",
    "> 示例4\n",
    "* 输入: s = \"{[]}\"\n",
    "* 输出: true\n",
    "\n"
   ]
  },
  {
   "cell_type": "code",
   "execution_count": null,
   "id": "592a9904",
   "metadata": {},
   "outputs": [
    {
     "name": "stdout",
     "output_type": "stream",
     "text": [
      "True\n"
     ]
    }
   ],
   "source": [
    "# 利用栈结构来判断括号是否匹配\n",
    "# 创建一个 dict，做 key-value 映射\n",
    "# 遍历字符串，遇到左括号就入栈，遇到右括号就出栈\n",
    "# 如果出栈的括号和当前右括号不匹配，或者栈为空时出栈，说明括号不匹配\n",
    "# 最后如果栈为空，说明括号匹配\n",
    "def findValidParentheses(s):\n",
    "    stack = []\n",
    "\n",
    "    sample = {'(': ')', '{': '}', '[': ']', '<':'>'}\n",
    "\n",
    "    for char in s:\n",
    "        if char in sample.keys():\n",
    "            stack.append(char)\n",
    "        elif char in sample.values():\n",
    "            if not stack or sample[stack.pop()] != char:\n",
    "                return False\n",
    "    \n",
    "    return not stack\n",
    "\n",
    "s = '{}[]()<>'\n",
    "print(findValidParentheses(s))"
   ]
  }
 ],
 "metadata": {
  "kernelspec": {
   "display_name": "Python 3",
   "language": "python",
   "name": "python3"
  },
  "language_info": {
   "codemirror_mode": {
    "name": "ipython",
    "version": 3
   },
   "file_extension": ".py",
   "mimetype": "text/x-python",
   "name": "python",
   "nbconvert_exporter": "python",
   "pygments_lexer": "ipython3",
   "version": "3.11.3"
  }
 },
 "nbformat": 4,
 "nbformat_minor": 5
}
