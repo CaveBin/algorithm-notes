{
 "cells": [
  {
   "cell_type": "markdown",
   "id": "2337277a",
   "metadata": {},
   "source": [
    "# 链表反转\n",
    "\n",
    "## 题目描述\n",
    "> 对于一个单链表，反转链表，并返回反转后的链表头结点。"
   ]
  },
  {
   "cell_type": "code",
   "execution_count": 13,
   "id": "ceac41ba",
   "metadata": {},
   "outputs": [
    {
     "name": "stdout",
     "output_type": "stream",
     "text": [
      "Iterated List:3 -> 2 -> 1\n"
     ]
    }
   ],
   "source": [
    "def reverseLinks(head):\n",
    "    prev = None\n",
    "    current = head\n",
    "\n",
    "    while current:\n",
    "        next_node = current.next  # Store the next node\n",
    "        current.next = prev       # Reverse the link\n",
    "        prev = current            # Move prev to current\n",
    "        current = next_node       # Move to the next node\n",
    "\n",
    "    return prev  # New head of the reversed list\n",
    "\n",
    "# Example usage:\n",
    "class ListNode:\n",
    "    def __init__(self, value=0, next=None):\n",
    "        self.value = value\n",
    "        self.next = next\n",
    "# Creating a linked list: 1 -> 2 -> 3 -> None\n",
    "head = ListNode(1, ListNode(2, ListNode(3)))  \n",
    "# Reversing the linked list\n",
    "new_head = reverseLinks(head)  \n",
    "# Printing the reversed linked list\n",
    "current = new_head\n",
    "print(f\"Iterated List:{current.value} -> {current.next.value} -> {current.next.next.value}\")\n",
    "# Output should be: 3 2 1\n",
    "# --- IGNORE ---   \n",
    "# End of recent edits\n",
    "# +++ b/vscode-notebook-cell:/d%3A/01.Hello%20World/01.Algorithms/6Weeks/SecondWeek/Day8.ipynb#W3sZmlsZQ%3D%3D"
   ]
  },
  {
   "cell_type": "code",
   "execution_count": 12,
   "id": "40125db8",
   "metadata": {},
   "outputs": [
    {
     "name": "stdout",
     "output_type": "stream",
     "text": [
      "Iterated List:1 -> 2 -> 3\n"
     ]
    }
   ],
   "source": [
    "def iterateList(head):\n",
    "    if not head or not head.next:\n",
    "        return head\n",
    "\n",
    "    new_head = iterateList(head.next)\n",
    "\n",
    "    head.next.next = head\n",
    "    head.next = None\n",
    "\n",
    "    return new_head\n",
    "\n",
    "# Example usage:\n",
    "# 创建一个链表: 3 -> 2 -> 1 -> None\n",
    "head = ListNode(3, ListNode(2, ListNode(1)))\n",
    "# 遍历链表并打印每个节点的值\n",
    "new_head = iterateList(head)\n",
    "print(f\"Iterated List:{new_head.value} -> {new_head.next.value} -> {new_head.next.next.value}\")\n",
    "# Output should be: 1 2 3\n",
    "# --- IGNORE ---   \n",
    "# End of recent edits\n",
    "# +++ b/vscode-notebook-cell:/d%3A/01.Hello%20World/01.Algorithms/6Weeks/SecondWeek/Day8.ipynb#W3sZmlsZQ%3D%3D"
   ]
  }
 ],
 "metadata": {
  "kernelspec": {
   "display_name": "Python 3",
   "language": "python",
   "name": "python3"
  },
  "language_info": {
   "codemirror_mode": {
    "name": "ipython",
    "version": 3
   },
   "file_extension": ".py",
   "mimetype": "text/x-python",
   "name": "python",
   "nbconvert_exporter": "python",
   "pygments_lexer": "ipython3",
   "version": "3.11.3"
  }
 },
 "nbformat": 4,
 "nbformat_minor": 5
}
